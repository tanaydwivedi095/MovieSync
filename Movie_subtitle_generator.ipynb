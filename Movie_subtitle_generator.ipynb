{
 "cells": [
  {
   "cell_type": "markdown",
   "metadata": {
    "id": "z2luoDwX1tLd"
   },
   "source": [
    "**Description**: This Project takes a Youtube video and translates it to a selected regional language.\n",
    "\n",
    "Steps\n",
    "1. Download the Youtube video and save locally.\n",
    "2. Trim the video for silence.\n",
    "3. Get the audio from the video.\n",
    "4. Split the audio into senetnces of 1 minute duration.\n",
    "5. Convert the speech into english transcription for each file.\n",
    "6. Remove the cuss words from the movie.\n",
    "7. Translate the english transcription into local language.\n",
    "8. Evaluate and re-experiment"
   ]
  },
  {
   "cell_type": "markdown",
   "source": [
    "TODO: Try Google Translate\n",
    "https://codelabs.developers.google.com/codelabs/cloud-translation-python3#4"
   ],
   "metadata": {
    "id": "uqKbcNhP_Qo1"
   }
  },
  {
   "cell_type": "markdown",
   "source": [
    "Designing the project:\n",
    "1. Make sure that the code is efficient for API calls\n",
    "2. Failures should be gracefully handled.\n",
    "3. Cost effectiveness\n",
    "4. Logging\n",
    "5. Quality of the outcome.\n",
    "6. Maintainability"
   ],
   "metadata": {
    "id": "pb7obHOwCDa_"
   }
  },
  {
   "cell_type": "code",
   "metadata": {
    "colab": {
     "base_uri": "https://localhost:8080/"
    },
    "id": "G4jPbYIc---d",
    "outputId": "254ff290-6a18-4333-f05f-7dc43df9115f",
    "ExecuteTime": {
     "end_time": "2024-11-20T14:20:30.049731Z",
     "start_time": "2024-11-20T14:20:27.630249Z"
    }
   },
   "source": [
    "from getpass import getpass\n",
    "openaikey = getpass('##')"
   ],
   "outputs": [],
   "execution_count": 1
  },
  {
   "metadata": {
    "ExecuteTime": {
     "end_time": "2024-11-20T14:20:30.121225Z",
     "start_time": "2024-11-20T14:20:30.115804Z"
    }
   },
   "cell_type": "code",
   "source": [
    "chatgpt_url = \"https://api.openai.com/v1/chat/completions\"\n",
    "chatgpt_headers = {\n",
    "    \"content-type\": \"application/json\",\n",
    "    \"Authorization\":\"Bearer {}\".format(openaikey)}"
   ],
   "outputs": [],
   "execution_count": 2
  },
  {
   "cell_type": "code",
   "metadata": {
    "id": "zATCWxeoCfJv",
    "ExecuteTime": {
     "end_time": "2024-11-20T14:20:34.104088Z",
     "start_time": "2024-11-20T14:20:32.853843Z"
    }
   },
   "source": [
    "import openai\n",
    "openai.api_key = openaikey"
   ],
   "outputs": [],
   "execution_count": 3
  },
  {
   "cell_type": "code",
   "metadata": {
    "id": "4qdTCz_M_eMy",
    "ExecuteTime": {
     "end_time": "2024-11-20T14:20:35.290480Z",
     "start_time": "2024-11-20T14:20:35.264942Z"
    }
   },
   "source": [
    "#import openai\n",
    "import os\n",
    "import urllib\n",
    "from IPython.display import Audio\n",
    "from pathlib import Path\n",
    "from pydub import AudioSegment"
   ],
   "outputs": [
    {
     "name": "stderr",
     "output_type": "stream",
     "text": [
      "C:\\Users\\tanay\\anaconda3\\Lib\\site-packages\\pydub\\utils.py:170: RuntimeWarning: Couldn't find ffmpeg or avconv - defaulting to ffmpeg, but may not work\n",
      "  warn(\"Couldn't find ffmpeg or avconv - defaulting to ffmpeg, but may not work\", RuntimeWarning)\n"
     ]
    }
   ],
   "execution_count": 4
  },
  {
   "cell_type": "code",
   "metadata": {
    "colab": {
     "base_uri": "https://localhost:8080/"
    },
    "id": "8d2e6Whm8RQO",
    "outputId": "0c1e8b9e-f8eb-46c1-9010-f82f549665c6",
    "ExecuteTime": {
     "end_time": "2024-11-20T14:20:41.520156Z",
     "start_time": "2024-11-20T14:20:41.515373Z"
    }
   },
   "source": [
    "# from pytube import YouTube\n",
    "#\n",
    "# # Replace 'VIDEO_URL' with the URL of the YouTube video you want to download\n",
    "# video_url = 'https://www.youtube.com/watch?v=Tg7jAnS78JA'\n",
    "#\n",
    "# # Create a YouTube object\n",
    "# yt = YouTube(video_url)\n",
    "#\n",
    "# # Choose the stream with the desired quality and resolution\n",
    "# # You can loop through available streams and select the one you want\n",
    "# stream = yt.streams.get_lowest_resolution()\n",
    "#\n",
    "# # Specify the download location (optional)\n",
    "# # If not specified, it will be downloaded to the current working directory\n",
    "# download_location = 'D:\\\\AIML\\\\Projects\\\\'\n",
    "#\n",
    "# # Download the video\n",
    "# stream.download(output_path=download_location)\n",
    "#\n",
    "# print(f\"Video '{yt.title}' downloaded successfully!\")\n",
    "#\n",
    "#\n",
    "#\n",
    "#\n",
    "#\n"
   ],
   "outputs": [],
   "execution_count": 5
  },
  {
   "cell_type": "code",
   "metadata": {
    "id": "Zrlm8E77-5ia",
    "ExecuteTime": {
     "end_time": "2024-11-20T14:20:42.689783Z",
     "start_time": "2024-11-20T14:20:42.684011Z"
    }
   },
   "source": [
    "# Function to detect leading silence\n",
    "# Returns the number of milliseconds until the first sound (chunk averaging more than X decibels)\n",
    "def milliseconds_until_sound(sound, silence_threshold_in_decibels=-20.0, chunk_size=10):\n",
    "    trim_ms = 0  # ms\n",
    "\n",
    "    assert chunk_size > 0  # to avoid infinite loop\n",
    "    while sound[trim_ms:trim_ms+chunk_size].dBFS < silence_threshold_in_decibels and trim_ms < len(sound):\n",
    "        trim_ms += chunk_size\n",
    "\n",
    "    return trim_ms"
   ],
   "outputs": [],
   "execution_count": 6
  },
  {
   "cell_type": "code",
   "metadata": {
    "id": "xkRP2kBu-pY0",
    "ExecuteTime": {
     "end_time": "2024-11-20T14:26:25.000807Z",
     "start_time": "2024-11-20T14:26:24.995868Z"
    }
   },
   "source": [
    "def trim_start(filepath):\n",
    "    path = Path(filepath)\n",
    "    print(path)\n",
    "    directory = path.parent\n",
    "    print(directory)\n",
    "    filename = path.name\n",
    "    print(filename)\n",
    "    audio = AudioSegment.from_file(filepath, format=\"mp4\")\n",
    "    # audio = AudioSegment.from_mp3(filename)\n",
    "    print(\"Audio\")\n",
    "    start_trim = milliseconds_until_sound(audio)\n",
    "    trimmed = audio[start_trim:]\n",
    "    new_filename = directory / f\"trimmed_{filename}\"\n",
    "    trimmed.export(new_filename, format=\"mp4\")\n",
    "    return trimmed, new_filename"
   ],
   "outputs": [],
   "execution_count": 20
  },
  {
   "cell_type": "code",
   "metadata": {
    "id": "N0YsBQPe-0j4",
    "ExecuteTime": {
     "end_time": "2024-11-20T14:26:27.017573Z",
     "start_time": "2024-11-20T14:26:26.871352Z"
    }
   },
   "source": [
    "file_path=\"D:\\\\PyTorch\\\\Projects\\\\The_deal.mp4\"\n",
    "trimmed_audio = trim_start(file_path)"
   ],
   "outputs": [
    {
     "name": "stdout",
     "output_type": "stream",
     "text": [
      "D:\\PyTorch\\Projects\\The_deal.mp4\n",
      "D:\\PyTorch\\Projects\n",
      "The_deal.mp4\n"
     ]
    },
    {
     "ename": "FileNotFoundError",
     "evalue": "[WinError 2] The system cannot find the file specified",
     "output_type": "error",
     "traceback": [
      "\u001B[1;31m---------------------------------------------------------------------------\u001B[0m",
      "\u001B[1;31mFileNotFoundError\u001B[0m                         Traceback (most recent call last)",
      "Cell \u001B[1;32mIn[21], line 2\u001B[0m\n\u001B[0;32m      1\u001B[0m file_path\u001B[38;5;241m=\u001B[39m\u001B[38;5;124m\"\u001B[39m\u001B[38;5;124mD:\u001B[39m\u001B[38;5;130;01m\\\\\u001B[39;00m\u001B[38;5;124mPyTorch\u001B[39m\u001B[38;5;130;01m\\\\\u001B[39;00m\u001B[38;5;124mProjects\u001B[39m\u001B[38;5;130;01m\\\\\u001B[39;00m\u001B[38;5;124mThe_deal.mp4\u001B[39m\u001B[38;5;124m\"\u001B[39m\n\u001B[1;32m----> 2\u001B[0m trimmed_audio \u001B[38;5;241m=\u001B[39m trim_start(file_path)\n",
      "Cell \u001B[1;32mIn[20], line 8\u001B[0m, in \u001B[0;36mtrim_start\u001B[1;34m(filepath)\u001B[0m\n\u001B[0;32m      6\u001B[0m filename \u001B[38;5;241m=\u001B[39m path\u001B[38;5;241m.\u001B[39mname\n\u001B[0;32m      7\u001B[0m \u001B[38;5;28mprint\u001B[39m(filename)\n\u001B[1;32m----> 8\u001B[0m audio \u001B[38;5;241m=\u001B[39m AudioSegment\u001B[38;5;241m.\u001B[39mfrom_file(filepath, \u001B[38;5;28mformat\u001B[39m\u001B[38;5;241m=\u001B[39m\u001B[38;5;124m\"\u001B[39m\u001B[38;5;124mmp4\u001B[39m\u001B[38;5;124m\"\u001B[39m)\n\u001B[0;32m      9\u001B[0m \u001B[38;5;66;03m# audio = AudioSegment.from_mp3(filename)\u001B[39;00m\n\u001B[0;32m     10\u001B[0m \u001B[38;5;28mprint\u001B[39m(\u001B[38;5;124m\"\u001B[39m\u001B[38;5;124mAudio\u001B[39m\u001B[38;5;124m\"\u001B[39m)\n",
      "File \u001B[1;32m~\\anaconda3\\Lib\\site-packages\\pydub\\audio_segment.py:728\u001B[0m, in \u001B[0;36mAudioSegment.from_file\u001B[1;34m(cls, file, format, codec, parameters, start_second, duration, **kwargs)\u001B[0m\n\u001B[0;32m    726\u001B[0m     info \u001B[38;5;241m=\u001B[39m \u001B[38;5;28;01mNone\u001B[39;00m\n\u001B[0;32m    727\u001B[0m \u001B[38;5;28;01melse\u001B[39;00m:\n\u001B[1;32m--> 728\u001B[0m     info \u001B[38;5;241m=\u001B[39m mediainfo_json(orig_file, read_ahead_limit\u001B[38;5;241m=\u001B[39mread_ahead_limit)\n\u001B[0;32m    729\u001B[0m \u001B[38;5;28;01mif\u001B[39;00m info:\n\u001B[0;32m    730\u001B[0m     audio_streams \u001B[38;5;241m=\u001B[39m [x \u001B[38;5;28;01mfor\u001B[39;00m x \u001B[38;5;129;01min\u001B[39;00m info[\u001B[38;5;124m'\u001B[39m\u001B[38;5;124mstreams\u001B[39m\u001B[38;5;124m'\u001B[39m]\n\u001B[0;32m    731\u001B[0m                      \u001B[38;5;28;01mif\u001B[39;00m x[\u001B[38;5;124m'\u001B[39m\u001B[38;5;124mcodec_type\u001B[39m\u001B[38;5;124m'\u001B[39m] \u001B[38;5;241m==\u001B[39m \u001B[38;5;124m'\u001B[39m\u001B[38;5;124maudio\u001B[39m\u001B[38;5;124m'\u001B[39m]\n",
      "File \u001B[1;32m~\\anaconda3\\Lib\\site-packages\\pydub\\utils.py:274\u001B[0m, in \u001B[0;36mmediainfo_json\u001B[1;34m(filepath, read_ahead_limit)\u001B[0m\n\u001B[0;32m    271\u001B[0m         file\u001B[38;5;241m.\u001B[39mclose()\n\u001B[0;32m    273\u001B[0m command \u001B[38;5;241m=\u001B[39m [prober, \u001B[38;5;124m'\u001B[39m\u001B[38;5;124m-of\u001B[39m\u001B[38;5;124m'\u001B[39m, \u001B[38;5;124m'\u001B[39m\u001B[38;5;124mjson\u001B[39m\u001B[38;5;124m'\u001B[39m] \u001B[38;5;241m+\u001B[39m command_args\n\u001B[1;32m--> 274\u001B[0m res \u001B[38;5;241m=\u001B[39m Popen(command, stdin\u001B[38;5;241m=\u001B[39mstdin_parameter, stdout\u001B[38;5;241m=\u001B[39mPIPE, stderr\u001B[38;5;241m=\u001B[39mPIPE)\n\u001B[0;32m    275\u001B[0m output, stderr \u001B[38;5;241m=\u001B[39m res\u001B[38;5;241m.\u001B[39mcommunicate(\u001B[38;5;28minput\u001B[39m\u001B[38;5;241m=\u001B[39mstdin_data)\n\u001B[0;32m    276\u001B[0m output \u001B[38;5;241m=\u001B[39m output\u001B[38;5;241m.\u001B[39mdecode(\u001B[38;5;124m\"\u001B[39m\u001B[38;5;124mutf-8\u001B[39m\u001B[38;5;124m\"\u001B[39m, \u001B[38;5;124m'\u001B[39m\u001B[38;5;124mignore\u001B[39m\u001B[38;5;124m'\u001B[39m)\n",
      "File \u001B[1;32m~\\anaconda3\\Lib\\subprocess.py:1026\u001B[0m, in \u001B[0;36mPopen.__init__\u001B[1;34m(self, args, bufsize, executable, stdin, stdout, stderr, preexec_fn, close_fds, shell, cwd, env, universal_newlines, startupinfo, creationflags, restore_signals, start_new_session, pass_fds, user, group, extra_groups, encoding, errors, text, umask, pipesize, process_group)\u001B[0m\n\u001B[0;32m   1022\u001B[0m         \u001B[38;5;28;01mif\u001B[39;00m \u001B[38;5;28mself\u001B[39m\u001B[38;5;241m.\u001B[39mtext_mode:\n\u001B[0;32m   1023\u001B[0m             \u001B[38;5;28mself\u001B[39m\u001B[38;5;241m.\u001B[39mstderr \u001B[38;5;241m=\u001B[39m io\u001B[38;5;241m.\u001B[39mTextIOWrapper(\u001B[38;5;28mself\u001B[39m\u001B[38;5;241m.\u001B[39mstderr,\n\u001B[0;32m   1024\u001B[0m                     encoding\u001B[38;5;241m=\u001B[39mencoding, errors\u001B[38;5;241m=\u001B[39merrors)\n\u001B[1;32m-> 1026\u001B[0m     \u001B[38;5;28mself\u001B[39m\u001B[38;5;241m.\u001B[39m_execute_child(args, executable, preexec_fn, close_fds,\n\u001B[0;32m   1027\u001B[0m                         pass_fds, cwd, env,\n\u001B[0;32m   1028\u001B[0m                         startupinfo, creationflags, shell,\n\u001B[0;32m   1029\u001B[0m                         p2cread, p2cwrite,\n\u001B[0;32m   1030\u001B[0m                         c2pread, c2pwrite,\n\u001B[0;32m   1031\u001B[0m                         errread, errwrite,\n\u001B[0;32m   1032\u001B[0m                         restore_signals,\n\u001B[0;32m   1033\u001B[0m                         gid, gids, uid, umask,\n\u001B[0;32m   1034\u001B[0m                         start_new_session, process_group)\n\u001B[0;32m   1035\u001B[0m \u001B[38;5;28;01mexcept\u001B[39;00m:\n\u001B[0;32m   1036\u001B[0m     \u001B[38;5;66;03m# Cleanup if the child failed starting.\u001B[39;00m\n\u001B[0;32m   1037\u001B[0m     \u001B[38;5;28;01mfor\u001B[39;00m f \u001B[38;5;129;01min\u001B[39;00m \u001B[38;5;28mfilter\u001B[39m(\u001B[38;5;28;01mNone\u001B[39;00m, (\u001B[38;5;28mself\u001B[39m\u001B[38;5;241m.\u001B[39mstdin, \u001B[38;5;28mself\u001B[39m\u001B[38;5;241m.\u001B[39mstdout, \u001B[38;5;28mself\u001B[39m\u001B[38;5;241m.\u001B[39mstderr)):\n",
      "File \u001B[1;32m~\\anaconda3\\Lib\\subprocess.py:1538\u001B[0m, in \u001B[0;36mPopen._execute_child\u001B[1;34m(self, args, executable, preexec_fn, close_fds, pass_fds, cwd, env, startupinfo, creationflags, shell, p2cread, p2cwrite, c2pread, c2pwrite, errread, errwrite, unused_restore_signals, unused_gid, unused_gids, unused_uid, unused_umask, unused_start_new_session, unused_process_group)\u001B[0m\n\u001B[0;32m   1536\u001B[0m \u001B[38;5;66;03m# Start the process\u001B[39;00m\n\u001B[0;32m   1537\u001B[0m \u001B[38;5;28;01mtry\u001B[39;00m:\n\u001B[1;32m-> 1538\u001B[0m     hp, ht, pid, tid \u001B[38;5;241m=\u001B[39m _winapi\u001B[38;5;241m.\u001B[39mCreateProcess(executable, args,\n\u001B[0;32m   1539\u001B[0m                              \u001B[38;5;66;03m# no special security\u001B[39;00m\n\u001B[0;32m   1540\u001B[0m                              \u001B[38;5;28;01mNone\u001B[39;00m, \u001B[38;5;28;01mNone\u001B[39;00m,\n\u001B[0;32m   1541\u001B[0m                              \u001B[38;5;28mint\u001B[39m(\u001B[38;5;129;01mnot\u001B[39;00m close_fds),\n\u001B[0;32m   1542\u001B[0m                              creationflags,\n\u001B[0;32m   1543\u001B[0m                              env,\n\u001B[0;32m   1544\u001B[0m                              cwd,\n\u001B[0;32m   1545\u001B[0m                              startupinfo)\n\u001B[0;32m   1546\u001B[0m \u001B[38;5;28;01mfinally\u001B[39;00m:\n\u001B[0;32m   1547\u001B[0m     \u001B[38;5;66;03m# Child is launched. Close the parent's copy of those pipe\u001B[39;00m\n\u001B[0;32m   1548\u001B[0m     \u001B[38;5;66;03m# handles that only the child should have open.  You need\u001B[39;00m\n\u001B[1;32m   (...)\u001B[0m\n\u001B[0;32m   1551\u001B[0m     \u001B[38;5;66;03m# pipe will not close when the child process exits and the\u001B[39;00m\n\u001B[0;32m   1552\u001B[0m     \u001B[38;5;66;03m# ReadFile will hang.\u001B[39;00m\n\u001B[0;32m   1553\u001B[0m     \u001B[38;5;28mself\u001B[39m\u001B[38;5;241m.\u001B[39m_close_pipe_fds(p2cread, p2cwrite,\n\u001B[0;32m   1554\u001B[0m                          c2pread, c2pwrite,\n\u001B[0;32m   1555\u001B[0m                          errread, errwrite)\n",
      "\u001B[1;31mFileNotFoundError\u001B[0m: [WinError 2] The system cannot find the file specified"
     ]
    }
   ],
   "execution_count": 21
  },
  {
   "cell_type": "code",
   "metadata": {
    "id": "hCRS3TRFAFLv",
    "ExecuteTime": {
     "end_time": "2024-11-19T18:20:34.895206Z",
     "start_time": "2024-11-19T18:20:34.722148Z"
    }
   },
   "source": [
    "trimmed_audio, trimmed_filename = trim_start(file_path)"
   ],
   "outputs": [
    {
     "ename": "FileNotFoundError",
     "evalue": "[WinError 2] The system cannot find the file specified",
     "output_type": "error",
     "traceback": [
      "\u001B[1;31m---------------------------------------------------------------------------\u001B[0m",
      "\u001B[1;31mFileNotFoundError\u001B[0m                         Traceback (most recent call last)",
      "Cell \u001B[1;32mIn[14], line 1\u001B[0m\n\u001B[1;32m----> 1\u001B[0m trimmed_audio, trimmed_filename \u001B[38;5;241m=\u001B[39m trim_start(file_path)\n",
      "Cell \u001B[1;32mIn[7], line 5\u001B[0m, in \u001B[0;36mtrim_start\u001B[1;34m(filepath)\u001B[0m\n\u001B[0;32m      3\u001B[0m directory \u001B[38;5;241m=\u001B[39m path\u001B[38;5;241m.\u001B[39mparent\n\u001B[0;32m      4\u001B[0m filename \u001B[38;5;241m=\u001B[39m path\u001B[38;5;241m.\u001B[39mname\n\u001B[1;32m----> 5\u001B[0m audio \u001B[38;5;241m=\u001B[39m AudioSegment\u001B[38;5;241m.\u001B[39mfrom_file(filepath, \u001B[38;5;28mformat\u001B[39m\u001B[38;5;241m=\u001B[39m\u001B[38;5;124m\"\u001B[39m\u001B[38;5;124mmp4\u001B[39m\u001B[38;5;124m\"\u001B[39m)\n\u001B[0;32m      6\u001B[0m start_trim \u001B[38;5;241m=\u001B[39m milliseconds_until_sound(audio)\n\u001B[0;32m      7\u001B[0m trimmed \u001B[38;5;241m=\u001B[39m audio[start_trim:]\n",
      "File \u001B[1;32m~\\anaconda3\\Lib\\site-packages\\pydub\\audio_segment.py:728\u001B[0m, in \u001B[0;36mAudioSegment.from_file\u001B[1;34m(cls, file, format, codec, parameters, start_second, duration, **kwargs)\u001B[0m\n\u001B[0;32m    726\u001B[0m     info \u001B[38;5;241m=\u001B[39m \u001B[38;5;28;01mNone\u001B[39;00m\n\u001B[0;32m    727\u001B[0m \u001B[38;5;28;01melse\u001B[39;00m:\n\u001B[1;32m--> 728\u001B[0m     info \u001B[38;5;241m=\u001B[39m mediainfo_json(orig_file, read_ahead_limit\u001B[38;5;241m=\u001B[39mread_ahead_limit)\n\u001B[0;32m    729\u001B[0m \u001B[38;5;28;01mif\u001B[39;00m info:\n\u001B[0;32m    730\u001B[0m     audio_streams \u001B[38;5;241m=\u001B[39m [x \u001B[38;5;28;01mfor\u001B[39;00m x \u001B[38;5;129;01min\u001B[39;00m info[\u001B[38;5;124m'\u001B[39m\u001B[38;5;124mstreams\u001B[39m\u001B[38;5;124m'\u001B[39m]\n\u001B[0;32m    731\u001B[0m                      \u001B[38;5;28;01mif\u001B[39;00m x[\u001B[38;5;124m'\u001B[39m\u001B[38;5;124mcodec_type\u001B[39m\u001B[38;5;124m'\u001B[39m] \u001B[38;5;241m==\u001B[39m \u001B[38;5;124m'\u001B[39m\u001B[38;5;124maudio\u001B[39m\u001B[38;5;124m'\u001B[39m]\n",
      "File \u001B[1;32m~\\anaconda3\\Lib\\site-packages\\pydub\\utils.py:274\u001B[0m, in \u001B[0;36mmediainfo_json\u001B[1;34m(filepath, read_ahead_limit)\u001B[0m\n\u001B[0;32m    271\u001B[0m         file\u001B[38;5;241m.\u001B[39mclose()\n\u001B[0;32m    273\u001B[0m command \u001B[38;5;241m=\u001B[39m [prober, \u001B[38;5;124m'\u001B[39m\u001B[38;5;124m-of\u001B[39m\u001B[38;5;124m'\u001B[39m, \u001B[38;5;124m'\u001B[39m\u001B[38;5;124mjson\u001B[39m\u001B[38;5;124m'\u001B[39m] \u001B[38;5;241m+\u001B[39m command_args\n\u001B[1;32m--> 274\u001B[0m res \u001B[38;5;241m=\u001B[39m Popen(command, stdin\u001B[38;5;241m=\u001B[39mstdin_parameter, stdout\u001B[38;5;241m=\u001B[39mPIPE, stderr\u001B[38;5;241m=\u001B[39mPIPE)\n\u001B[0;32m    275\u001B[0m output, stderr \u001B[38;5;241m=\u001B[39m res\u001B[38;5;241m.\u001B[39mcommunicate(\u001B[38;5;28minput\u001B[39m\u001B[38;5;241m=\u001B[39mstdin_data)\n\u001B[0;32m    276\u001B[0m output \u001B[38;5;241m=\u001B[39m output\u001B[38;5;241m.\u001B[39mdecode(\u001B[38;5;124m\"\u001B[39m\u001B[38;5;124mutf-8\u001B[39m\u001B[38;5;124m\"\u001B[39m, \u001B[38;5;124m'\u001B[39m\u001B[38;5;124mignore\u001B[39m\u001B[38;5;124m'\u001B[39m)\n",
      "File \u001B[1;32m~\\anaconda3\\Lib\\subprocess.py:1026\u001B[0m, in \u001B[0;36mPopen.__init__\u001B[1;34m(self, args, bufsize, executable, stdin, stdout, stderr, preexec_fn, close_fds, shell, cwd, env, universal_newlines, startupinfo, creationflags, restore_signals, start_new_session, pass_fds, user, group, extra_groups, encoding, errors, text, umask, pipesize, process_group)\u001B[0m\n\u001B[0;32m   1022\u001B[0m         \u001B[38;5;28;01mif\u001B[39;00m \u001B[38;5;28mself\u001B[39m\u001B[38;5;241m.\u001B[39mtext_mode:\n\u001B[0;32m   1023\u001B[0m             \u001B[38;5;28mself\u001B[39m\u001B[38;5;241m.\u001B[39mstderr \u001B[38;5;241m=\u001B[39m io\u001B[38;5;241m.\u001B[39mTextIOWrapper(\u001B[38;5;28mself\u001B[39m\u001B[38;5;241m.\u001B[39mstderr,\n\u001B[0;32m   1024\u001B[0m                     encoding\u001B[38;5;241m=\u001B[39mencoding, errors\u001B[38;5;241m=\u001B[39merrors)\n\u001B[1;32m-> 1026\u001B[0m     \u001B[38;5;28mself\u001B[39m\u001B[38;5;241m.\u001B[39m_execute_child(args, executable, preexec_fn, close_fds,\n\u001B[0;32m   1027\u001B[0m                         pass_fds, cwd, env,\n\u001B[0;32m   1028\u001B[0m                         startupinfo, creationflags, shell,\n\u001B[0;32m   1029\u001B[0m                         p2cread, p2cwrite,\n\u001B[0;32m   1030\u001B[0m                         c2pread, c2pwrite,\n\u001B[0;32m   1031\u001B[0m                         errread, errwrite,\n\u001B[0;32m   1032\u001B[0m                         restore_signals,\n\u001B[0;32m   1033\u001B[0m                         gid, gids, uid, umask,\n\u001B[0;32m   1034\u001B[0m                         start_new_session, process_group)\n\u001B[0;32m   1035\u001B[0m \u001B[38;5;28;01mexcept\u001B[39;00m:\n\u001B[0;32m   1036\u001B[0m     \u001B[38;5;66;03m# Cleanup if the child failed starting.\u001B[39;00m\n\u001B[0;32m   1037\u001B[0m     \u001B[38;5;28;01mfor\u001B[39;00m f \u001B[38;5;129;01min\u001B[39;00m \u001B[38;5;28mfilter\u001B[39m(\u001B[38;5;28;01mNone\u001B[39;00m, (\u001B[38;5;28mself\u001B[39m\u001B[38;5;241m.\u001B[39mstdin, \u001B[38;5;28mself\u001B[39m\u001B[38;5;241m.\u001B[39mstdout, \u001B[38;5;28mself\u001B[39m\u001B[38;5;241m.\u001B[39mstderr)):\n",
      "File \u001B[1;32m~\\anaconda3\\Lib\\subprocess.py:1538\u001B[0m, in \u001B[0;36mPopen._execute_child\u001B[1;34m(self, args, executable, preexec_fn, close_fds, pass_fds, cwd, env, startupinfo, creationflags, shell, p2cread, p2cwrite, c2pread, c2pwrite, errread, errwrite, unused_restore_signals, unused_gid, unused_gids, unused_uid, unused_umask, unused_start_new_session, unused_process_group)\u001B[0m\n\u001B[0;32m   1536\u001B[0m \u001B[38;5;66;03m# Start the process\u001B[39;00m\n\u001B[0;32m   1537\u001B[0m \u001B[38;5;28;01mtry\u001B[39;00m:\n\u001B[1;32m-> 1538\u001B[0m     hp, ht, pid, tid \u001B[38;5;241m=\u001B[39m _winapi\u001B[38;5;241m.\u001B[39mCreateProcess(executable, args,\n\u001B[0;32m   1539\u001B[0m                              \u001B[38;5;66;03m# no special security\u001B[39;00m\n\u001B[0;32m   1540\u001B[0m                              \u001B[38;5;28;01mNone\u001B[39;00m, \u001B[38;5;28;01mNone\u001B[39;00m,\n\u001B[0;32m   1541\u001B[0m                              \u001B[38;5;28mint\u001B[39m(\u001B[38;5;129;01mnot\u001B[39;00m close_fds),\n\u001B[0;32m   1542\u001B[0m                              creationflags,\n\u001B[0;32m   1543\u001B[0m                              env,\n\u001B[0;32m   1544\u001B[0m                              cwd,\n\u001B[0;32m   1545\u001B[0m                              startupinfo)\n\u001B[0;32m   1546\u001B[0m \u001B[38;5;28;01mfinally\u001B[39;00m:\n\u001B[0;32m   1547\u001B[0m     \u001B[38;5;66;03m# Child is launched. Close the parent's copy of those pipe\u001B[39;00m\n\u001B[0;32m   1548\u001B[0m     \u001B[38;5;66;03m# handles that only the child should have open.  You need\u001B[39;00m\n\u001B[1;32m   (...)\u001B[0m\n\u001B[0;32m   1551\u001B[0m     \u001B[38;5;66;03m# pipe will not close when the child process exits and the\u001B[39;00m\n\u001B[0;32m   1552\u001B[0m     \u001B[38;5;66;03m# ReadFile will hang.\u001B[39;00m\n\u001B[0;32m   1553\u001B[0m     \u001B[38;5;28mself\u001B[39m\u001B[38;5;241m.\u001B[39m_close_pipe_fds(p2cread, p2cwrite,\n\u001B[0;32m   1554\u001B[0m                          c2pread, c2pwrite,\n\u001B[0;32m   1555\u001B[0m                          errread, errwrite)\n",
      "\u001B[1;31mFileNotFoundError\u001B[0m: [WinError 2] The system cannot find the file specified"
     ]
    }
   ],
   "execution_count": 14
  },
  {
   "cell_type": "markdown",
   "source": [
    "# Option-1: Calling Transcription on whole speech"
   ],
   "metadata": {
    "id": "xZRA7x45Jotx"
   }
  },
  {
   "metadata": {
    "ExecuteTime": {
     "end_time": "2024-11-20T14:33:53.344966Z",
     "start_time": "2024-11-20T14:33:44.789714Z"
    }
   },
   "cell_type": "code",
   "source": "",
   "outputs": [
    {
     "name": "stdout",
     "output_type": "stream",
     "text": [
      "Collecting openai==0.28\n",
      "  Downloading openai-0.28.0-py3-none-any.whl.metadata (13 kB)\n",
      "Requirement already satisfied: requests>=2.20 in c:\\users\\tanay\\anaconda3\\lib\\site-packages (from openai==0.28) (2.32.2)\n",
      "Requirement already satisfied: tqdm in c:\\users\\tanay\\anaconda3\\lib\\site-packages (from openai==0.28) (4.66.4)\n",
      "Requirement already satisfied: aiohttp in c:\\users\\tanay\\anaconda3\\lib\\site-packages (from openai==0.28) (3.9.5)\n",
      "Requirement already satisfied: charset-normalizer<4,>=2 in c:\\users\\tanay\\anaconda3\\lib\\site-packages (from requests>=2.20->openai==0.28) (2.0.4)\n",
      "Requirement already satisfied: idna<4,>=2.5 in c:\\users\\tanay\\anaconda3\\lib\\site-packages (from requests>=2.20->openai==0.28) (3.7)\n",
      "Requirement already satisfied: urllib3<3,>=1.21.1 in c:\\users\\tanay\\anaconda3\\lib\\site-packages (from requests>=2.20->openai==0.28) (2.2.2)\n",
      "Requirement already satisfied: certifi>=2017.4.17 in c:\\users\\tanay\\anaconda3\\lib\\site-packages (from requests>=2.20->openai==0.28) (2024.8.30)\n",
      "Requirement already satisfied: aiosignal>=1.1.2 in c:\\users\\tanay\\anaconda3\\lib\\site-packages (from aiohttp->openai==0.28) (1.2.0)\n",
      "Requirement already satisfied: attrs>=17.3.0 in c:\\users\\tanay\\anaconda3\\lib\\site-packages (from aiohttp->openai==0.28) (23.1.0)\n",
      "Requirement already satisfied: frozenlist>=1.1.1 in c:\\users\\tanay\\anaconda3\\lib\\site-packages (from aiohttp->openai==0.28) (1.4.0)\n",
      "Requirement already satisfied: multidict<7.0,>=4.5 in c:\\users\\tanay\\anaconda3\\lib\\site-packages (from aiohttp->openai==0.28) (6.0.4)\n",
      "Requirement already satisfied: yarl<2.0,>=1.0 in c:\\users\\tanay\\anaconda3\\lib\\site-packages (from aiohttp->openai==0.28) (1.9.3)\n",
      "Requirement already satisfied: colorama in c:\\users\\tanay\\anaconda3\\lib\\site-packages (from tqdm->openai==0.28) (0.4.6)\n",
      "Downloading openai-0.28.0-py3-none-any.whl (76 kB)\n",
      "   ---------------------------------------- 0.0/76.5 kB ? eta -:--:--\n",
      "   ------------------------------------- -- 71.7/76.5 kB 1.9 MB/s eta 0:00:01\n",
      "   ---------------------------------------- 76.5/76.5 kB 1.4 MB/s eta 0:00:00\n",
      "Installing collected packages: openai\n",
      "  Attempting uninstall: openai\n",
      "    Found existing installation: openai 1.53.0\n",
      "    Uninstalling openai-1.53.0:\n",
      "      Successfully uninstalled openai-1.53.0\n",
      "Successfully installed openai-0.28.0\n"
     ]
    }
   ],
   "execution_count": 29
  },
  {
   "metadata": {
    "colab": {
     "base_uri": "https://localhost:8080/",
     "height": 209
    },
    "id": "Z_HHPBGD7ndG",
    "outputId": "7f8fcac0-660b-4b22-a68b-8e958af6bcd2",
    "ExecuteTime": {
     "end_time": "2024-11-20T14:33:56.329247Z",
     "start_time": "2024-11-20T14:33:56.305706Z"
    }
   },
   "cell_type": "code",
   "source": [
    "# Get the Transcription for the Audio\n",
    "# with open(trimmed_filename, 'rb') as audio_data:\n",
    "with open(\"D:\\\\PyTorch\\\\Projects\\\\The_deal.mp4\", 'rb') as audio_data:\n",
    "    total_transcript = (openai.Audio.transcribe(\"whisper-2\", audio_data))[\"text\"]\n",
    "total_transcript"
   ],
   "outputs": [
    {
     "ename": "APIRemovedInV1",
     "evalue": "\n\nYou tried to access openai.Audio, but this is no longer supported in openai>=1.0.0 - see the README at https://github.com/openai/openai-python for the API.\n\nYou can run `openai migrate` to automatically upgrade your codebase to use the 1.0.0 interface. \n\nAlternatively, you can pin your installation to the old version, e.g. `pip install openai==0.28`\n\nA detailed migration guide is available here: https://github.com/openai/openai-python/discussions/742\n",
     "output_type": "error",
     "traceback": [
      "\u001B[1;31m---------------------------------------------------------------------------\u001B[0m",
      "\u001B[1;31mAPIRemovedInV1\u001B[0m                            Traceback (most recent call last)",
      "Cell \u001B[1;32mIn[30], line 4\u001B[0m\n\u001B[0;32m      1\u001B[0m \u001B[38;5;66;03m# Get the Transcription for the Audio\u001B[39;00m\n\u001B[0;32m      2\u001B[0m \u001B[38;5;66;03m# with open(trimmed_filename, 'rb') as audio_data:\u001B[39;00m\n\u001B[0;32m      3\u001B[0m \u001B[38;5;28;01mwith\u001B[39;00m \u001B[38;5;28mopen\u001B[39m(\u001B[38;5;124m\"\u001B[39m\u001B[38;5;124mD:\u001B[39m\u001B[38;5;130;01m\\\\\u001B[39;00m\u001B[38;5;124mPyTorch\u001B[39m\u001B[38;5;130;01m\\\\\u001B[39;00m\u001B[38;5;124mProjects\u001B[39m\u001B[38;5;130;01m\\\\\u001B[39;00m\u001B[38;5;124mThe_deal.mp4\u001B[39m\u001B[38;5;124m\"\u001B[39m, \u001B[38;5;124m'\u001B[39m\u001B[38;5;124mrb\u001B[39m\u001B[38;5;124m'\u001B[39m) \u001B[38;5;28;01mas\u001B[39;00m audio_data:\n\u001B[1;32m----> 4\u001B[0m     total_transcript \u001B[38;5;241m=\u001B[39m (openai\u001B[38;5;241m.\u001B[39mAudio\u001B[38;5;241m.\u001B[39mtranscribe(\u001B[38;5;124m\"\u001B[39m\u001B[38;5;124mwhisper-2\u001B[39m\u001B[38;5;124m\"\u001B[39m, audio_data))[\u001B[38;5;124m\"\u001B[39m\u001B[38;5;124mtext\u001B[39m\u001B[38;5;124m\"\u001B[39m]\n\u001B[0;32m      5\u001B[0m total_transcript\n",
      "File \u001B[1;32m~\\anaconda3\\Lib\\site-packages\\openai\\lib\\_old_api.py:39\u001B[0m, in \u001B[0;36mAPIRemovedInV1Proxy.__call__\u001B[1;34m(self, *_args, **_kwargs)\u001B[0m\n\u001B[0;32m     38\u001B[0m \u001B[38;5;28;01mdef\u001B[39;00m \u001B[38;5;21m__call__\u001B[39m(\u001B[38;5;28mself\u001B[39m, \u001B[38;5;241m*\u001B[39m_args: Any, \u001B[38;5;241m*\u001B[39m\u001B[38;5;241m*\u001B[39m_kwargs: Any) \u001B[38;5;241m-\u001B[39m\u001B[38;5;241m>\u001B[39m Any:\n\u001B[1;32m---> 39\u001B[0m     \u001B[38;5;28;01mraise\u001B[39;00m APIRemovedInV1(symbol\u001B[38;5;241m=\u001B[39m\u001B[38;5;28mself\u001B[39m\u001B[38;5;241m.\u001B[39m_symbol)\n",
      "\u001B[1;31mAPIRemovedInV1\u001B[0m: \n\nYou tried to access openai.Audio, but this is no longer supported in openai>=1.0.0 - see the README at https://github.com/openai/openai-python for the API.\n\nYou can run `openai migrate` to automatically upgrade your codebase to use the 1.0.0 interface. \n\nAlternatively, you can pin your installation to the old version, e.g. `pip install openai==0.28`\n\nA detailed migration guide is available here: https://github.com/openai/openai-python/discussions/742\n"
     ]
    }
   ],
   "execution_count": 30
  },
  {
   "cell_type": "code",
   "metadata": {
    "id": "spWTdUCbKti0",
    "ExecuteTime": {
     "end_time": "2024-11-19T18:20:47.817484Z",
     "start_time": "2024-11-19T18:20:47.810888Z"
    }
   },
   "source": [
    "def Moderation_assistant(english_transcript):\n",
    "    response = openai.ChatCompletion.create(\n",
    "        model=\"gpt-3.5-turbo\",\n",
    "        temperature=0,\n",
    "        top_p=0.7,\n",
    "        messages=[\n",
    "            {\n",
    "                \"role\": \"system\",\n",
    "                \"content\": \"You are moderation assistant. Add write punctuation and Replace all the adult content words, cuss words, and abusive words with *** \"\n",
    "            },\n",
    "            {\n",
    "                \"role\": \"user\",\n",
    "                \"content\": english_transcript\n",
    "            }\n",
    "        ]\n",
    "    )\n",
    "    return response"
   ],
   "outputs": [],
   "execution_count": 16
  },
  {
   "cell_type": "code",
   "source": [
    "def Translation_assistant(english_transcript, translation_language):\n",
    "    response = openai.ChatCompletion.create(\n",
    "        model=\"gpt-3.5-turbo\",\n",
    "        temperature=0.5,\n",
    "        top_p=1,\n",
    "        messages=[\n",
    "            {\n",
    "                \"role\": \"system\",\n",
    "                \"content\": \"Translate the english sentencences into \"+translation_language+\". Use the following examples for translation. Do you mind passing the sauce? should be translated to సాస్ పాస్ చేయడం మీకు అభ్యంతరమా? ignore the repetition of the characters or words or sentences in the end. Use the following example for translation.\"\n",
    "            },\n",
    "            {\n",
    "                \"role\": \"user\",\n",
    "                \"content\": english_transcript\n",
    "            }\n",
    "        ]\n",
    "    )\n",
    "    return response\n",
    "\n"
   ],
   "metadata": {
    "id": "4tJqPjPE_Rks",
    "ExecuteTime": {
     "end_time": "2024-11-19T18:20:49.019542Z",
     "start_time": "2024-11-19T18:20:49.011171Z"
    }
   },
   "outputs": [],
   "execution_count": 17
  },
  {
   "cell_type": "code",
   "metadata": {
    "colab": {
     "base_uri": "https://localhost:8080/",
     "height": 209
    },
    "id": "puw9s6rtKzWU",
    "outputId": "9130723b-ee98-439c-e576-fbb3c1f12f76",
    "ExecuteTime": {
     "end_time": "2024-11-19T18:20:51.459260Z",
     "start_time": "2024-11-19T18:20:51.428125Z"
    }
   },
   "source": [
    "moderated_transcript = (Moderation_assistant(total_transcript)) ['choices'][0]['message']['content']\n",
    "moderated_transcript\n"
   ],
   "outputs": [
    {
     "ename": "NameError",
     "evalue": "name 'total_transcript' is not defined",
     "output_type": "error",
     "traceback": [
      "\u001B[1;31m---------------------------------------------------------------------------\u001B[0m",
      "\u001B[1;31mNameError\u001B[0m                                 Traceback (most recent call last)",
      "Cell \u001B[1;32mIn[18], line 1\u001B[0m\n\u001B[1;32m----> 1\u001B[0m moderated_transcript \u001B[38;5;241m=\u001B[39m (Moderation_assistant(total_transcript)) [\u001B[38;5;124m'\u001B[39m\u001B[38;5;124mchoices\u001B[39m\u001B[38;5;124m'\u001B[39m][\u001B[38;5;241m0\u001B[39m][\u001B[38;5;124m'\u001B[39m\u001B[38;5;124mmessage\u001B[39m\u001B[38;5;124m'\u001B[39m][\u001B[38;5;124m'\u001B[39m\u001B[38;5;124mcontent\u001B[39m\u001B[38;5;124m'\u001B[39m]\n\u001B[0;32m      2\u001B[0m moderated_transcript\n",
      "\u001B[1;31mNameError\u001B[0m: name 'total_transcript' is not defined"
     ]
    }
   ],
   "execution_count": 18
  },
  {
   "cell_type": "code",
   "source": [
    "telugu_transcript = Translation_assistant(moderated_transcript,\"English\")\n",
    "\n",
    "#print(ascii_transcriptions)\n",
    "telugu_transcript['choices'][0]['message']['content']"
   ],
   "metadata": {
    "colab": {
     "base_uri": "https://localhost:8080/",
     "height": 209
    },
    "id": "BLBsK-9UBOaX",
    "outputId": "c1756d18-1d1e-4cbd-b088-ff7633af4059",
    "ExecuteTime": {
     "end_time": "2024-11-19T18:20:53.621985Z",
     "start_time": "2024-11-19T18:20:53.590090Z"
    }
   },
   "outputs": [
    {
     "ename": "NameError",
     "evalue": "name 'moderated_transcript' is not defined",
     "output_type": "error",
     "traceback": [
      "\u001B[1;31m---------------------------------------------------------------------------\u001B[0m",
      "\u001B[1;31mNameError\u001B[0m                                 Traceback (most recent call last)",
      "Cell \u001B[1;32mIn[19], line 1\u001B[0m\n\u001B[1;32m----> 1\u001B[0m telugu_transcript \u001B[38;5;241m=\u001B[39m Translation_assistant(moderated_transcript,\u001B[38;5;124m\"\u001B[39m\u001B[38;5;124mEnglish\u001B[39m\u001B[38;5;124m\"\u001B[39m)\n\u001B[0;32m      3\u001B[0m \u001B[38;5;66;03m#print(ascii_transcriptions)\u001B[39;00m\n\u001B[0;32m      4\u001B[0m telugu_transcript[\u001B[38;5;124m'\u001B[39m\u001B[38;5;124mchoices\u001B[39m\u001B[38;5;124m'\u001B[39m][\u001B[38;5;241m0\u001B[39m][\u001B[38;5;124m'\u001B[39m\u001B[38;5;124mmessage\u001B[39m\u001B[38;5;124m'\u001B[39m][\u001B[38;5;124m'\u001B[39m\u001B[38;5;124mcontent\u001B[39m\u001B[38;5;124m'\u001B[39m]\n",
      "\u001B[1;31mNameError\u001B[0m: name 'moderated_transcript' is not defined"
     ]
    }
   ],
   "execution_count": 19
  },
  {
   "cell_type": "markdown",
   "source": [
    "# Option -2 : Splitting into chunks and running the transcription"
   ],
   "metadata": {
    "id": "DTpkqq5AI991"
   }
  },
  {
   "cell_type": "code",
   "execution_count": null,
   "metadata": {
    "id": "U0zYzTr3AUjr"
   },
   "outputs": [],
   "source": [
    "# Split the audio into audio segments of 1 min duration\n",
    "\n",
    "trimmed_audio = AudioSegment.from_file(trimmed_filename)  # Load the trimmed audio file\n",
    "\n",
    "one_minute = 1 * 60 * 1000  # Duration for each segment (in milliseconds)\n",
    "\n",
    "start_time = 0  # Start time for the first segment\n",
    "\n",
    "#no_of_files = 0  # Index for naming the segmented files\n",
    "\n",
    "output_dir_trimmed = \"TrimmedMovieDirectory\"  # Output directory for the segmented files\n",
    "\n",
    "if not os.path.isdir(output_dir_trimmed):  # Create the output directory if it does not exist\n",
    "    os.makedirs(output_dir_trimmed)\n",
    "i=0\n",
    "while start_time < len(trimmed_audio):  # Loop over the trimmed audio file\n",
    "    segment = trimmed_audio[start_time:start_time + one_minute]  # Extract a segment\n",
    "    segment.export(os.path.join(output_dir_trimmed, f\"trimmed_{i:02d}.mp4\"), format=\"mp4\")  # Save the segment\n",
    "    start_time += one_minute # Update the start time for the next segment\n",
    "    i=i+1\n",
    "\n",
    "    #no_of_files += 1  # Increment the index for naming the next file"
   ]
  },
  {
   "cell_type": "code",
   "execution_count": null,
   "metadata": {
    "id": "c0wvhSoZCKmF"
   },
   "outputs": [],
   "source": [
    "# Sort the audio files\n",
    "audio_files = sorted(\n",
    "    (f for f in os.listdir(output_dir_trimmed) if f.endswith(\".mp4\")),\n",
    "    key=lambda f: int(''.join(filter(str.isdigit, f)))\n",
    ")"
   ]
  },
  {
   "cell_type": "code",
   "source": [
    "import time\n",
    "sleep_time=40\n",
    "def transcribe_audio(file,output_dir):\n",
    "    audio_path = os.path.join(output_dir, file)\n",
    "    with open(audio_path, 'rb') as audio_data:\n",
    "        transcription = openai.Audio.transcribe(\"whisper-1\", audio_data)\n",
    "        time.sleep(sleep_time)\n",
    "        return transcription['text']"
   ],
   "metadata": {
    "id": "Uo5VSEvRGKcS"
   },
   "execution_count": null,
   "outputs": []
  },
  {
   "cell_type": "code",
   "execution_count": null,
   "metadata": {
    "colab": {
     "base_uri": "https://localhost:8080/"
    },
    "id": "civUNCZrCWPO",
    "outputId": "9a8b409c-cc29-4031-e537-29bf55f32c0f"
   },
   "outputs": [
    {
     "output_type": "stream",
     "name": "stdout",
     "text": [
      "[\"Here we are. You know, usually your mother and I would reserve a bottle like this for special occasions. But then I thought, you know what? For our Lauren, I'm sure we can make an exception. Angela. Hmm? We can make an exception for Angela. Dinner's ready. Ah, smells lovely Sue. Let's hope it tastes as good as it smells. As promised, your favourite. Tuck in everyone. Don't need to tell me twice. Mmm.\", \"Yeah, yeah, I'm good. You haven't touched your food. Usually you'd have that chicken egg before it had even touched the plate. It used to be a nightmare to get you to eat anything else. That's right. If you'd had your way growing up, we'd have had roast chicken. I'm a vegetarian. Since when? Since forever. You... You know this. How can you be a vegetarian if you love roast chicken? I don't. Are you sure? Yeah, pretty sure. Well, I'm pretty sure I know what my daughter's favourite meal is. It's not my... It's not my favourite meal. That's okay, I'll just, um... I'll just eat around the chicken. It's no big deal. I'll just eat around the chicken.\", \"You're in love. Do you mind passing the sauce? Angela, Dad. My name is Angela. What did I say? It doesn't matter. It's nothing. Mum, how did you do the potatoes? They taste amazing. Mum? Everything's ruined. What? No, everything's fine. Like I said, it's not a big deal. I'm not talking about the fucking dinner.\", \"So, Dad, how are things at work? Well, funny you should ask, actually. Jesus! Dad! Why did you cancel last week? You know why. Reminders. Dad, look, I think... Answer the fucking question! I wasn't ready. What about the week before? Where were you then? Look, I needed time. What about the week before? Okay, okay, okay, look. What about the funeral? Look, I'm sorry. I've not been here recently. But I'm here now, so can we please just focus on that, being here together, like a normal family? You see, Lauren... Angela! Dad, not fucking Lauren. Angela! We can't go back to normal! Not after what you did. It wasn't... An accident, yes, yes. We know. But do you ever wonder... What if I'd taken a bit more care on the road? What if I'd swerved just that little bit sooner? What if I'd... Dad! Dad! Dad! Dad! Dad! Dad! Dad! Dad! Dad! Dad! Dad! Dad! Dad! \", \"I asked my sister to come with me to get away from the parents for a bit. Stop. You know who'd really appreciate a roast chicken dinner? Lauren. It was her favourite! Can we please just... God! I wish you'd died instead of her. What did you say? It was her favourite. Not you. Why did you come here? I... I came... I want... I... I... I... I... I... I... I just want things to go back to the way that they were. I want to be able to forget about it, so... So you can feel less guilty? So I can move on, so that we can move on. Ah! I... I...\", 'Oh, my God! Lá vem ele. Oscar... Oscar... Oscar... Oscar...', 'Where am I? No. Why is it hot out here? It hurts. What did you do? Come here, you fucking bitch! Ah! Ah! Ah! Ah! Ah! You fucking bitch! Ah! Ah! Ah! Ah! You must be running from me, Hansel! Get back here! Ah! Ah! Ah! You can try to marry me, all you want. Ah!', \"I'll destroy you until there's nothing left of you! I'm sorry, Lauren can't go home, Lauren's gone, and you're not Lauren. Angela, please. \", '♪♪ ♪♪ ♪♪ ♪♪ ♪♪ ♪♪', \"You okay, love? No. I'm okay.\", 'You']\n"
     ]
    }
   ],
   "source": [
    "# Print Transcriptions of all the sentences\n",
    "transcriptions = [transcribe_audio(file, output_dir_trimmed) for file in audio_files]\n",
    "print(transcriptions)\n"
   ]
  },
  {
   "cell_type": "code",
   "execution_count": null,
   "metadata": {
    "colab": {
     "base_uri": "https://localhost:8080/"
    },
    "id": "PAVJu6k6KgID",
    "outputId": "7ba3ebcf-c071-44e2-dc53-f946d27fdd28"
   },
   "outputs": [
    {
     "output_type": "stream",
     "name": "stdout",
     "text": [
      "Here we are. You know, usually your mother and I would reserve a bottle like this for special occasions. But then I thought, you know what? For our Lauren, I'm sure we can make an exception. Angela. Hmm? We can make an exception for Angela. Dinner's ready. Ah, smells lovely Sue. Let's hope it tastes as good as it smells. As promised, your favourite. Tuck in everyone. Don't need to tell me twice. Mmm.\n"
     ]
    }
   ],
   "source": [
    "print(transcriptions[0])"
   ]
  },
  {
   "cell_type": "code",
   "source": [
    "import time\n",
    "sleep_time=40\n",
    "total_moderated_transcript=\"\"\n",
    "total_translated_transcript=\"\"\n",
    "for index in range(0,i):\n",
    "    moderated_transcript = (Moderation_assistant(transcriptions[index])) ['choices'][0]['message']['content']\n",
    "    print(moderated_transcript)\n",
    "    telugu_transcript = (Translation_assistant(moderated_transcript ,\"Telugu\"))['choices'][0]['message']['content']\n",
    "    print(telugu_transcript)\n",
    "    total_moderated_transcript += moderated_transcript\n",
    "    total_translated_transcript +=telugu_transcript\n",
    "    time.sleep(sleep_time)\n"
   ],
   "metadata": {
    "colab": {
     "base_uri": "https://localhost:8080/"
    },
    "id": "sxLBrcAgHH0u",
    "outputId": "75d5ab9e-03c9-44c9-b8ad-722b03be235f"
   },
   "execution_count": null,
   "outputs": [
    {
     "output_type": "stream",
     "name": "stdout",
     "text": [
      "Here we are. You know, usually your mother and I would reserve a bottle like this for special occasions. But then I thought, you know what? For our Lauren, I'm sure we can make an exception. Angela. Hmm? We can make an exception for Angela. Dinner's ready. Ah, smells lovely, Sue. Let's hope it tastes as good as it smells. As promised, your favourite. Tuck in, everyone. Don't need to tell me twice. Mmm.\n",
      "ఇక్కడ మేము. మీరు మీ తల్లి మరియు నేను సాధారణంగా ఈ రకమైన ఒక బాటిల్ను ప్రత్యేక సందర్భాలకు కనుగొనటం ఉండింది. కానీ తరువాత, నాకు ఆలోచన వచ్చింది, మీరు ఏమీ చేసుకోవడం తెలుసు. మా లారెన్ కోసం, నాకు ఖచ్చితంగా ఒక అనుకూలం చేస్తే బాగా ఉంటుందని నేను అనుకూలం చేస్తే అనుకూలం చేస్తే అనుకూలం చేస్తే అనుకూలం చేస్తే అనుకూలం చేస్తే అనుకూలం చేస్తే అనుకూలం చేస్తే అనుకూలం చేస్తే అనుకూలం చేస్తే అనుకూలం చేస్తే అనుకూలం చేస్తే అనుకూలం చేస్తే అనుకూలం చేస్తే అనుకూలం చేస్తే అనుకూలం చేస్తే అనుకూలం చేస్తే అనుకూలం చేస్తే అనుకూలం చేస్తే అనుకూలం చేస్తే అనుకూలం చేస్తే అనుకూలం చేస్తే అనుకూలం చేస్తే అనుకూలం చేస్తే అనుకూలం చేస్తే అనుకూలం చేస్తే అనుకూలం చేస్తే అనుకూలం చేస్తే అనుకూలం చేస్తే అనుకూలం చేస్తే అనుకూలం చేస్తే అనుకూలం చేస్తే అనుకూలం చేస్తే అనుకూలం చేస్తే అనుకూలం చేస్తే అనుకూలం చేస్తే అనుకూలం చేస్తే అనుకూలం చేస్తే అనుకూలం చేస్తే అనుకూలం చేస్తే అనుకూలం చేస్తే అనుకూలం చేస్తే అనుకూలం చేస్తే అనుకూలం చేస్తే అనుకూలం చేస్తే అనుకూలం చేస్తే అనుకూలం చేస్తే అనుకూలం చేస్తే అనుకూలం చేస్తే అనుకూలం చేస్తే అనుకూలం చేస్తే అనుకూలం చేస్తే అనుకూలం చేస్తే అనుకూలం చేస్తే అనుకూలం చేస్తే అనుకూలం చేస్తే అనుకూలం చేస్తే అనుకూలం చేస్తే అనుకూలం చేస్తే అనుకూలం చేస్తే అనుకూలం చేస్తే అనుకూలం చేస్తే అనుకూలం చేస్తే అనుకూలం చేస్తే అనుకూలం చేస్తే అనుకూలం చేస్తే అనుకూలం చేస్తే అనుకూలం చేస్తే అనుకూలం చేస్తే అనుకూలం చేస్తే అనుకూలం చేస్తే అనుకూలం చేస్తే అనుకూలం చేస్తే అనుకూలం చేస్తే అనుకూలం చేస్తే అనుకూలం చేస్తే అనుకూలం చేస్తే అనుకూలం చేస్తే అనుకూలం చేస్తే అనుకూలం చేస్తే అనుకూలం చేస్తే అనుకూలం చేస్తే అనుకూలం చేస్తే అనుకూలం చేస్తే అనుకూలం చేస్తే అనుకూలం చేస్తే అనుకూలం చేస్తే అనుకూలం చేస్తే అనుకూలం చేస్తే అనుకూలం చేస్తే అనుకూలం చేస్తే అనుకూలం చేస్తే అనుకూలం చేస్తే అనుకూలం చేస్తే అనుకూలం చేస్తే అనుకూలం చేస్తే అనుకూలం చేస్తే అనుకూలం చేస్తే అనుకూలం చేస్తే అనుకూలం చేస్తే అనుకూలం చేస్తే అనుకూలం చేస్తే అనుకూలం చేస్తే అనుకూలం చేస్తే అనుకూలం చేస్తే అనుకూలం చేస్తే అనుకూలం చేస్తే అనుకూలం చేస్తే అనుకూలం చేస్తే అనుకూలం చేస్తే అనుకూలం చేస్తే అనుకూలం చేస్తే అనుకూలం చేస్తే అనుకూలం చేస్తే అనుకూలం చేస్తే అనుకూలం చేస్తే అనుకూలం చేస్తే అనుకూలం చేస్తే అనుకూలం చేస్తే అనుకూలం చేస్తే అనుకూలం చేస్తే అనుకూలం చేస్తే అనుకూలం చేస్తే అనుకూలం చేస్తే అనుకూలం చేస్తే అనుకూలం చేస్తే అనుకూలం చేస్తే అనుకూలం చేస్తే అనుకూలం చేస్తే అనుకూలం చేస్తే అనుకూలం చేస్తే అనుకూలం చేస్తే అనుకూలం చేస్తే అనుకూలం చేస్తే అనుకూలం చేస్తే అనుకూలం చేస్తే అనుకూలం చేస్తే అనుకూలం చేస్తే అనుకూలం చేస్తే అనుకూలం చేస్తే అనుకూలం చేస్తే అనుకూలం చేస్తే అనుకూలం చేస్తే అనుకూలం\n",
      "Yeah, yeah, I'm good. You haven't touched your food. Usually you'd have that chicken egg before it had even touched the plate. It used to be a nightmare to get you to eat anything else. That's right. If you'd had your way growing up, we'd have had roast chicken. I'm a vegetarian. Since when? Since forever. You... You know this. How can you be a vegetarian if you love roast chicken? I don't. Are you sure? Yeah, pretty sure. Well, I'm pretty sure I know what my daughter's favourite meal is. It's not my... It's not my favourite meal. That's okay, I'll just, um... I'll just eat around the chicken. It's no big deal. I'll just eat around the chicken.\n",
      "అవును, నేను బాగున్నాను. మీరు మీ ఆహారాన్ని తాకినట్లు చూడలేదు. సామాన్యంగా మీరు ప్లేటును కలుగిన ముందు ఆ చికెన్ మొత్తం తినడం ఆయన ప్రవృత్తి. మీరు ఏదైనా ఇతరవస్తువులను తినటంతో నన్ను తినివేయడం కష్టం ఉండడం కాదు. అది సరైనది. మీరు పెండ్లు పెండ్లు పెండ్లు ఆయన వాట్స్ అప్ అయ్యాడానికి, మేము రోస్ట్ చికెన్ తినేము. నేను శాకాహారి. ఎప్పుడు నుంచి? ఎప్పుడు నుంచి. మీరు రోస్ట్ చికెన్ నుంచి ప్రేమిస్తే మీరు శాకాహారి కాకపోతే ఎలా? నేను కాదు. మీరు ఖచ్చితంగా ఉంటే? అవును, ఖచ్చితంగా. బాగా నిశ్చయం. బాగుంది, నా కుమారి ఇష్టమైన ఆహారం ఏమిటి తెలుసు. అది నా... అది నా ఇష్టమైన ఆహారం కాదు. అదే లేదు, నేను చికెన్ వ్యాపారం చేయడానికి మాత్రం తినను. ఇది ఎప్పుడు లేదు. అది పెద్ద సమస్య కాదు. నేను చికెన్ చుట్టుతో తినుకుంటాను. అది పెద్ద సమస్య కాదు. అదే విషయం.\n",
      "You're in love. Do you mind passing the sauce? Angela, Dad. My name is Angela. What did I say? It doesn't matter. It's nothing. Mum, how did you do the potatoes? They taste amazing. Mum? Everything's ruined. What? No, everything's fine. Like I said, it's not a big deal. I'm not talking about the *** dinner.\n",
      "మీరు ప్రేమలో ఉన్నారు. సాస్ పాస్ చేయడం మీకు అభ్యంతరమా? ఆంజెలా, డాడ్. నా పేరు ఆంజెలా. నేను ఏమి చెప్పాను? ఏమి లేదు. మమ్మ, పొటేటోలను ఎలా చేసావు? అవి అద్భుతంగా ఉంటాయి. మమ్మా? ప్రతివారం తిరిగిపోయింది. ఏమి? కాదు, ఎవరేనా సరిపడనింది. నేను చెప్పినట్లు చెప్పింది, అది పెద్ద సమస్య కాదు. నేను వింటున్నాను, వంట గురించి మాట్లాడడం కాదు.\n",
      "So, Dad, how are things at work? Well, funny you should ask, actually. Jesus! Dad! Why did you cancel last week? You know why. Reminders. Dad, look, I think... Answer the *** question! I wasn't ready. What about the week before? Where were you then? Look, I needed time. What about the week before? Okay, okay, okay, look. What about the funeral? Look, I'm sorry. I've not been here recently. But I'm here now, so can we please just focus on that, being here together, like a normal family? You see, Lauren... Angela! Dad, not *** Lauren. Angela! We can't go back to normal! Not after what you did. It wasn't... An accident, yes, yes. We know. But do you ever wonder... What if I'd taken a bit more care on the road? What if I'd swerved just that little bit sooner? What if I'd... Dad! Dad! Dad! Dad! Dad! Dad! Dad! Dad! Dad! Dad! Dad! Dad! Dad! \n",
      "అయ్యో, నాన్న, ఓ పనులు ఎలా ఉన్నాయి? బాబా, మీకు అడ్డుకోవడం బాగా ఉంది. జీసస్! నాన్నా! మీరు గత వారం రద్దు చేసావా? మీరు ఏమిటి తెలుసా? జ్ఞాపకాలు. నాన్నా, చూడండి, నాకు అనిపించింది... ప్రశ్నకు సమాధానం ఇవ్వండి! నేను సిద్ధం కాలేదు. ముందు ఏడవారం ఏకటికి ఉన్నావు? చూడండి, నాకు సమయం కావాలి. ముందు ఏడవారం ఏకటికి ఉన్నావు? బాబా, బాబా, బాబా, చూడండి. సంస్కారం గురించి ఏమి చెప్పింది? కనీసం దానికి సవాలా? అక్కడ వాహనానికి కనీసం జాగ్రత్తగా ఉండానా? ఏమిటి? నాన్నా! నాన్నా! నాన్నా! నాన్నా! నాన్నా! నాన్నా! నాన్నా! నాన్నా! నాన్నా! నాన్నా! నాన్నా! నాన్నా! నాన్నా!\n",
      "I asked my sister to come with me to get away from the parents for a bit. Stop. You know who'd really appreciate a roast chicken dinner? Lauren. It was her favourite! Can we please just... God! I wish you'd died instead of her. What did you say? It was her favourite. Not you. Why did you come here? I... I came... I want... I... I... I... I... I... I... I just want things to go back to the way that they were. I want to be able to forget about it, so... So you can feel less guilty? So I can move on, so that we can move on. Ah! I... I...\n",
      "నేను నన్న తలుపు కింద నుండి పారెంట్స్ ను పారాయణం కోసం వచ్చినట్లిని అమ్మాయిని అడగాను. నిలిచండి. నీకు నిజంగా రోస్ట్ చికెన్ డిన్నర్ అంటే ఎవరు ఆనందించగలరు? లారెన్. అది ఆమె ఇష్టమైనది! దయచేసి మాకు క్షమించండి... దేవుడా! నేను ఆమెకు మరణం అయినట్లు కాదు. మీరు ఏమి చెప్పారు? అది ఆమె ఇష్టమైనది. మీరు కాదు. మీరు ఎక్కడ నుండి వచ్చారు? నేను... నేను... నేను... నేను... నేను... నేను... నేను... నేను... నేను... నేను... నేను... నేను... నేను... నేను... నేను... నేను... నేను... నేను... నేను... నేను... నేను... నేను... నేను... నేను... నేను... నేను... నేను... నేను... నేను... నేను... నేను... నేను... నేను... నేను... నేను... నేను... నేను... నేను... నేను... నేను... నేను... నేను... నేను... నేను... నేను... నేను... నేను... నేను... నేను... నేను... నేను... నేను... నేను... నేను... నేను... నేను... నేను... నేను... నేను... నేను... నేను... నేను... నేను... నేను... నేను... నేను... నేను... నేను... నేను... నేను... నేను... నేను... నేను... నేను... నేను... నేను... నేను... నేను... నేను... నేను... నేను... నేను... నేను... నేను... నేను... నేను... నేను... నేను... నేను... నేను... నేను... నేను... నేను... నేను... నేను... నేను... నేను... నేను... నేను... నేను... నేను... నేను... నేను... నేను... నేను... నేను... నేను... నేను... నేను... నేను... నేను... నేను... నేను... నేను... నేను... నేను... నేను... నేను... నేను... నేను... నేను... నేను... నేను... నేను... నేను... నేను... నేను... నేను... నేను... నేను... నేను... నేను... నేను... నేను... నేను... నేను... నేను... నేను... నేను... నేను... నేను... నేను... నేను... నేను... నేను... నేను... నేను... నేను... నేను... నేను... నేను... నేను... నేను... నేను... నేను... నేను... నేను... నేను... నేను... నేను... నేను... నేను... నేను... నేను... నేను... నేను... నేను... నేను... నేను... నేను... నేను... నేను... నేను... నేను... నేను... నేను... నేను... నేను... నేను... నేను... నేను... నేను... నేను... నేను... నేను... నేను... నేను... నేను... నేను... నేను... నేను... నేను... నేను... నేను... నేను... నేను... నేను... నేను... నేను... నేను... నేను... నేను... నేను... నేను... నేను... నేను... నేను... నేను... నేను... నేను... నేను... నేను... నేను... నేను... నేను... నేను... నేను... నేను... నేను... నేను... నేను... నేను... నేను... నేను... నేను... నేను... నేను... నేను... నేను... నేను... నేను... నేను... నేను... నేను... నేను... నేను... నేను... నేను... నేను... నేను... నేను... నేను... నేను... నేను... నేను... నేను... నేను... నేను... నేను... నేను... నేను... నేను... నేను... నేను... నేను... నేను... నేను... నేను... నేను... నేను... నేను... నేను... నేను... నేను... నేను... నేను... నేను... నేను... నేను... నేను... నేను... నేను... నేను... నేను... నేను... నేను... నేను... నేను... నేను... నేను... నేను... నేను... నేను... నేను... నేను... నేను... నేను... నేను... నేను... నేను... నేను... నేను... నేను... నేను... నేను... నేను... నేను... నేను... నేను... నేను... నేను... నేను... నేను... నేను... నేను... నేను... నేను... నేను... నేను... నేను... నేను... నేను... నేను... నేను... నేను... నేను... నేను... నేను... నేను... నేను... నేను... నేను... నేను... నేను... నేను... నేను... నేను... నేను... నేను... నేను... నేను... నేను... నేను... నేను... నేను... నేను... నేను... నేను... నేను... నేను... నేను... నేను... నేను... నేను... నేను... నేను... నేను... నేను... నేను... నేను... నేను... నేను... నేను... నేను... నేను... నేను... నేను... నేను... నేను... నేను... నేను... నేను... నేను... నేను... నేను... నేను... నేను... నేను... నేను... నేను... నేను... నేను... నేను... నేను... నేను... నేను... నేను... నేను... నేను... నేను... నేను... నేను... నేను... నేను... నేను... నేను... నేను... నేను... నేను... నేను... నేను... నేను... నేను... నేను... నేను... నేను... నే\n",
      "Oh, my God! Here he comes. Oscar... Oscar... Oscar... Oscar...\n",
      "ఓ, నా దేవుడా! ఇక్కడ వస్తున్నాడు. ఆస్కర్... ఆస్కర్... ఆస్కర్...\n",
      "Where am I? No. Why is it hot out here? It hurts. What did you do? Come here, you ***! Ah! Ah! Ah! Ah! Ah! You ***! Ah! Ah! Ah! Ah! You must be running from me, Hansel! Get back here! Ah! Ah! Ah! You can try to marry me, all you want. Ah!\n",
      "నేను ఎక్కడ ఉన్నాను? చాలా చుస్తుంది. నేను ఏమి చేసావు? ఇక్కడ ఉన్నా చాలా ఉష్ణం ఉంది. చలనచి వచ్చు! అయ్యో! నువ్వు చలనచి వచ్చినా నాకు మీద నుండి ఓటగాలికి వెళ్ళండి! అయ్యో! అయ్యో! అయ్యో! అయ్యో! అయ్యో! నువ్వు అయ్యో! అయ్యో! అయ్యో! అయ్యో! నువ్వు నాకు నుండి ఓటగాలికి వెళ్ళాలని అనుకుంటున్నావు, హాన్సెల్! ఇక్కడ తిరిగి రా! అయ్యో! అయ్యో! అయ్యో! మీరు నాతో పెళ్లి చేయడానికి ప్రయత్నించవచ్చు. అయ్యో!\n",
      "I'll destroy you until there's nothing left of you. I'm sorry, Lauren can't go home. Lauren's gone, and you're not Lauren. Angela, please.\n",
      "నేను మీరన్ని నాశనం చేస్తాను. కొన్ని ఉన్నప్పుడు మీరు కనుగొనబడకపోవాలని క్షమించండి. లారెన్ ప్రయాణించలేదు. లారెన్ పోయింది, మీరు లారెన్ కాదు. అంజెలా, దయచేసి.\n",
      "♪♪ ♪♪ ♪♪ ♪♪ ♪♪ ♪♪\n",
      "లలలలలల\n",
      "You okay, love? No. I'm okay.\n",
      "మీకు సరిగా ఉందా, ప్రేమ? కాదు. నేను సరిగా ఉన్నాను.\n",
      "Hello! How can I assist you today?\n",
      "హలో! నేను మీకు ఇంతకీ ఎలా సహాయపడగలను?\n"
     ]
    }
   ]
  },
  {
   "cell_type": "code",
   "source": [
    "moderated_file = open(download_location+\"moderatedfile.txt\", \"w\")\n",
    "moderated_file.write(total_moderated_transcript)\n",
    "moderated_file.close()\n",
    "translated_file = open(download_location+\"tel_translation.txt\", \"w\")\n",
    "translated_file.write(total_translated_transcript)\n",
    "translated_file.close()"
   ],
   "metadata": {
    "id": "98GA3aYq90xC"
   },
   "execution_count": null,
   "outputs": []
  },
  {
   "cell_type": "markdown",
   "metadata": {
    "id": "IJrmG2Hc39XW"
   },
   "source": [
    "Measure E2E quality;\n",
    "Measuring Quality:\n",
    "1. Spelling Errors\n",
    "2. English words\n",
    "3. Repetetion\n",
    "4. Un-recognizable characters\n",
    "5. Grammatical errors\n",
    "6. Coherence of sentence\n",
    "7. Word-by-word translation"
   ]
  },
  {
   "cell_type": "markdown",
   "metadata": {
    "id": "ftUFLrP6Jodm"
   },
   "source": [
    "Next steps:\n",
    "1. Build a REST API which takes Video URL, language and sends the response. Limit the input tokens.\n",
    "2. Build a web app which accepts video /URL, language and displays the content into the language.\n",
    "3. Take the input stream frame by frame and overlay it on the video and reproduce it.\n",
    "4. Convert the text to audio and with human face and reproduce it.\n",
    "5.Should support all video formats.\n",
    "6. Create a summary and sentiment of the movie."
   ]
  }
 ],
 "metadata": {
  "colab": {
   "provenance": [],
   "gpuType": "V100"
  },
  "kernelspec": {
   "display_name": "Python 3 (ipykernel)",
   "name": "python3",
   "language": "python"
  },
  "language_info": {
   "name": "python"
  },
  "accelerator": "GPU"
 },
 "nbformat": 4,
 "nbformat_minor": 0
}
